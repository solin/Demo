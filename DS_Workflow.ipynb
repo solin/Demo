{
 "cells": [
  {
   "cell_type": "markdown",
   "metadata": {},
   "source": [
    "# Data Science Workflow\n",
    "Directions on how to clone a git repository, pull data and manipulate it using Python within Jupyter Notebook, and push changes to Github."
   ]
  },
  {
   "cell_type": "markdown",
   "metadata": {},
   "source": [
    "### Preemptive Directions\n",
    "1. Have Git installed (Google Git Download).\n",
    "2. Have Python 3.5.x or above & Anaconda (supplies Jupyter Notebook) installed (Google both for downloads).\n",
    "3. Create a Github Profile (as easy as Facebook)"
   ]
  },
  {
   "cell_type": "markdown",
   "metadata": {},
   "source": [
    "### Start in Github\n",
    "1. Go to Github and create a new repository (Plus sign next to your name).\n",
    "2. After creating a repo, click \"Clone or Download\" button. Copy That link."
   ]
  },
  {
   "cell_type": "markdown",
   "metadata": {},
   "source": [
    "### Go to your Terminal (Bash Shell)\n",
    "1. Open it up and type pwd (stands for present working directory)\n",
    "2. Navigate to WHEREVER YOU want to put your Github Repository. You can navigate using the cd command, which stands for \"change directory.\" For example, I did cd /Users/kevin/Dropbox/Github/Classes/.\n",
    "3. Type git clone \"THE COPIED LINK FROM GITHUB\" (without quotes). Click enter."
   ]
  },
  {
   "cell_type": "markdown",
   "metadata": {},
   "source": [
    "### Opening Jupyter Notebook & a Python template\n",
    "1. Assuming you've installed Jupyter Notebook correctly from Anaconda, you can open it from the SAME terminal you already have open from above.\n",
    "2. Type \"jupyter notebook\" into the terminal. It should open a browser window for you with the files of your directory.\n",
    "3. Click new and Python.\n",
    "4. It should open a window that looks exactly like this."
   ]
  },
  {
   "cell_type": "markdown",
   "metadata": {},
   "source": [
    "### Getting Data into this notebook.\n",
    "1. If you don't have any data please feel free to grab the example dataset I have in my Github repository. Link: https://github.com/kevinkurek/IS_485_685. The file is \"sliced_training.csv\" which should easily fit into memory on your computer.\n",
    "2. Once you've downloaded the data (or any data) move that CSV into the same repository/directory you've been using this whole time (NOTE: The data doesn't HAVE to be in the same spot, but it's useful if it's small enough).\n",
    "3. Import Data as a Dataframe using Python's Pandas package. Example below."
   ]
  },
  {
   "cell_type": "code",
   "execution_count": 4,
   "metadata": {},
   "outputs": [
    {
     "data": {
      "text/html": [
       "<div>\n",
       "<style scoped>\n",
       "    .dataframe tbody tr th:only-of-type {\n",
       "        vertical-align: middle;\n",
       "    }\n",
       "\n",
       "    .dataframe tbody tr th {\n",
       "        vertical-align: top;\n",
       "    }\n",
       "\n",
       "    .dataframe thead th {\n",
       "        text-align: right;\n",
       "    }\n",
       "</style>\n",
       "<table border=\"1\" class=\"dataframe\">\n",
       "  <thead>\n",
       "    <tr style=\"text-align: right;\">\n",
       "      <th></th>\n",
       "      <th>Index</th>\n",
       "      <th>Account Balance</th>\n",
       "      <th>Duration of Credit (month)</th>\n",
       "      <th>Payment Status of Previous Credit</th>\n",
       "      <th>Purpose</th>\n",
       "      <th>Amount</th>\n",
       "      <th>Value Savings/Stocks</th>\n",
       "      <th>Length of current employment</th>\n",
       "      <th>Instalment per cent</th>\n",
       "      <th>Sex &amp; Marital Status</th>\n",
       "      <th>...</th>\n",
       "      <th>Duration in Current address</th>\n",
       "      <th>Most valuable available asset</th>\n",
       "      <th>Age (years)</th>\n",
       "      <th>Concurrent Credits</th>\n",
       "      <th>Type of apartment</th>\n",
       "      <th>No of Credits at this Bank</th>\n",
       "      <th>Occupation</th>\n",
       "      <th>No of dependents</th>\n",
       "      <th>Telephone</th>\n",
       "      <th>Foreign Worker</th>\n",
       "    </tr>\n",
       "  </thead>\n",
       "  <tbody>\n",
       "    <tr>\n",
       "      <th>0</th>\n",
       "      <td>845</td>\n",
       "      <td>1</td>\n",
       "      <td>18</td>\n",
       "      <td>4</td>\n",
       "      <td>2</td>\n",
       "      <td>1049</td>\n",
       "      <td>1</td>\n",
       "      <td>2</td>\n",
       "      <td>4</td>\n",
       "      <td>2</td>\n",
       "      <td>...</td>\n",
       "      <td>4</td>\n",
       "      <td>2</td>\n",
       "      <td>21</td>\n",
       "      <td>3</td>\n",
       "      <td>1</td>\n",
       "      <td>1</td>\n",
       "      <td>3</td>\n",
       "      <td>1</td>\n",
       "      <td>1</td>\n",
       "      <td>1</td>\n",
       "    </tr>\n",
       "    <tr>\n",
       "      <th>1</th>\n",
       "      <td>659</td>\n",
       "      <td>1</td>\n",
       "      <td>9</td>\n",
       "      <td>4</td>\n",
       "      <td>0</td>\n",
       "      <td>2799</td>\n",
       "      <td>1</td>\n",
       "      <td>3</td>\n",
       "      <td>2</td>\n",
       "      <td>3</td>\n",
       "      <td>...</td>\n",
       "      <td>2</td>\n",
       "      <td>1</td>\n",
       "      <td>36</td>\n",
       "      <td>3</td>\n",
       "      <td>1</td>\n",
       "      <td>2</td>\n",
       "      <td>3</td>\n",
       "      <td>2</td>\n",
       "      <td>1</td>\n",
       "      <td>1</td>\n",
       "    </tr>\n",
       "    <tr>\n",
       "      <th>2</th>\n",
       "      <td>194</td>\n",
       "      <td>1</td>\n",
       "      <td>12</td>\n",
       "      <td>4</td>\n",
       "      <td>0</td>\n",
       "      <td>2122</td>\n",
       "      <td>1</td>\n",
       "      <td>3</td>\n",
       "      <td>3</td>\n",
       "      <td>3</td>\n",
       "      <td>...</td>\n",
       "      <td>2</td>\n",
       "      <td>1</td>\n",
       "      <td>39</td>\n",
       "      <td>3</td>\n",
       "      <td>1</td>\n",
       "      <td>2</td>\n",
       "      <td>2</td>\n",
       "      <td>2</td>\n",
       "      <td>1</td>\n",
       "      <td>2</td>\n",
       "    </tr>\n",
       "    <tr>\n",
       "      <th>3</th>\n",
       "      <td>213</td>\n",
       "      <td>1</td>\n",
       "      <td>12</td>\n",
       "      <td>4</td>\n",
       "      <td>0</td>\n",
       "      <td>2171</td>\n",
       "      <td>1</td>\n",
       "      <td>3</td>\n",
       "      <td>4</td>\n",
       "      <td>3</td>\n",
       "      <td>...</td>\n",
       "      <td>4</td>\n",
       "      <td>2</td>\n",
       "      <td>38</td>\n",
       "      <td>1</td>\n",
       "      <td>2</td>\n",
       "      <td>2</td>\n",
       "      <td>2</td>\n",
       "      <td>1</td>\n",
       "      <td>1</td>\n",
       "      <td>2</td>\n",
       "    </tr>\n",
       "    <tr>\n",
       "      <th>4</th>\n",
       "      <td>625</td>\n",
       "      <td>1</td>\n",
       "      <td>10</td>\n",
       "      <td>4</td>\n",
       "      <td>0</td>\n",
       "      <td>2241</td>\n",
       "      <td>1</td>\n",
       "      <td>2</td>\n",
       "      <td>1</td>\n",
       "      <td>3</td>\n",
       "      <td>...</td>\n",
       "      <td>3</td>\n",
       "      <td>1</td>\n",
       "      <td>48</td>\n",
       "      <td>3</td>\n",
       "      <td>1</td>\n",
       "      <td>2</td>\n",
       "      <td>2</td>\n",
       "      <td>2</td>\n",
       "      <td>1</td>\n",
       "      <td>2</td>\n",
       "    </tr>\n",
       "  </tbody>\n",
       "</table>\n",
       "<p>5 rows × 21 columns</p>\n",
       "</div>"
      ],
      "text/plain": [
       "   Index  Account Balance  Duration of Credit (month)  \\\n",
       "0    845                1                          18   \n",
       "1    659                1                           9   \n",
       "2    194                1                          12   \n",
       "3    213                1                          12   \n",
       "4    625                1                          10   \n",
       "\n",
       "   Payment Status of Previous Credit  Purpose   Amount  Value Savings/Stocks  \\\n",
       "0                                  4        2     1049                     1   \n",
       "1                                  4        0     2799                     1   \n",
       "2                                  4        0     2122                     1   \n",
       "3                                  4        0     2171                     1   \n",
       "4                                  4        0     2241                     1   \n",
       "\n",
       "   Length of current employment  Instalment per cent  Sex & Marital Status  \\\n",
       "0                             2                    4                     2   \n",
       "1                             3                    2                     3   \n",
       "2                             3                    3                     3   \n",
       "3                             3                    4                     3   \n",
       "4                             2                    1                     3   \n",
       "\n",
       "        ...        Duration in Current address  Most valuable available asset  \\\n",
       "0       ...                                  4                              2   \n",
       "1       ...                                  2                              1   \n",
       "2       ...                                  2                              1   \n",
       "3       ...                                  4                              2   \n",
       "4       ...                                  3                              1   \n",
       "\n",
       "   Age (years)  Concurrent Credits  Type of apartment  \\\n",
       "0           21                   3                  1   \n",
       "1           36                   3                  1   \n",
       "2           39                   3                  1   \n",
       "3           38                   1                  2   \n",
       "4           48                   3                  1   \n",
       "\n",
       "   No of Credits at this Bank  Occupation  No of dependents  Telephone  \\\n",
       "0                           1           3                 1          1   \n",
       "1                           2           3                 2          1   \n",
       "2                           2           2                 2          1   \n",
       "3                           2           2                 1          1   \n",
       "4                           2           2                 2          1   \n",
       "\n",
       "   Foreign Worker  \n",
       "0               1  \n",
       "1               1  \n",
       "2               2  \n",
       "3               2  \n",
       "4               2  \n",
       "\n",
       "[5 rows x 21 columns]"
      ]
     },
     "execution_count": 4,
     "metadata": {},
     "output_type": "execute_result"
    }
   ],
   "source": [
    "import pandas as pd\n",
    "df = pd.read_csv('/Users/kevin/Dropbox/Github/Classes/IS_485_685/sliced_training.csv') # Use the Path where your data is\n",
    "df.drop(['Unnamed: 0'], axis=1, inplace=True)\n",
    "df.head()"
   ]
  },
  {
   "cell_type": "code",
   "execution_count": 5,
   "metadata": {},
   "outputs": [
    {
     "data": {
      "image/png": "[encoded data removed]",
      "text/plain": [
       "<Figure size 432x288 with 1 Axes>"
      ]
     },
     "metadata": {},
     "output_type": "display_data"
    }
   ],
   "source": [
    "# Do some Analysis\n",
    "import matplotlib.pyplot as plt\n",
    "\n",
    "plt.hist(df[' Amount'])\n",
    "plt.show()"
   ]
  },
  {
   "cell_type": "markdown",
   "metadata": {},
   "source": [
    "### Push Changes to Github\n",
    "1. Using some Jupyter \"Magic\" to show you the power of it. Pushing changes to github from jupyter simulating this cell as a terminal. Super neat, right?!"
   ]
  },
  {
   "cell_type": "code",
   "execution_count": 15,
   "metadata": {},
   "outputs": [
    {
     "name": "stdout",
     "output_type": "stream",
     "text": [
      "/Users/kevin/Dropbox/Github/Classes/IS_485_685\n",
      "/Users/kevin/Dropbox/Github/Classes\n",
      "On branch master\n",
      "Your branch is up-to-date with 'origin/master'.\n",
      "Untracked files:\n",
      "  (use \"git add <file>...\" to include in what will be committed)\n",
      "\n",
      "\t.ipynb_checkpoints/\n",
      "\tDS_Workflow.ipynb\n",
      "\n",
      "nothing added to commit but untracked files present (use \"git add\" to track)\n"
     ]
    }
   ],
   "source": [
    "%%bash\n",
    "\n",
    "pwd\n",
    "\n",
    "cd ..\n",
    "\n",
    "pwd\n",
    "\n",
    "cd ./Demo\n",
    "\n",
    "git status"
   ]
  },
  {
   "cell_type": "code",
   "execution_count": 16,
   "metadata": {},
   "outputs": [
    {
     "name": "stdout",
     "output_type": "stream",
     "text": [
      "[master d6ddeae] Uploading this file to Github\n",
      " 3 files changed, 738 insertions(+)\n",
      " create mode 100644 .ipynb_checkpoints/DS_Workflow-checkpoint.ipynb\n",
      " create mode 100644 DS_Workflow.ipynb\n"
     ]
    },
    {
     "name": "stderr",
     "output_type": "stream",
     "text": [
      "To https://github.com/kevinkurek/IS_485_685.git\n",
      "   56cae59..d6ddeae  master -> master\n"
     ]
    }
   ],
   "source": [
    "%%bash\n",
    "\n",
    "git add --all && git commit -m \"Uploading this file to Github\"\n",
    "git push origin master"
   ]
  },
  {
   "cell_type": "code",
   "execution_count": null,
   "metadata": {
    "collapsed": true
   },
   "outputs": [],
   "source": []
  }
 ],
 "metadata": {
  "kernelspec": {
   "display_name": "Python 3",
   "language": "python",
   "name": "python3"
  },
  "language_info": {
   "codemirror_mode": {
    "name": "ipython",
    "version": 3
   },
   "file_extension": ".py",
   "mimetype": "text/x-python",
   "name": "python",
   "nbconvert_exporter": "python",
   "pygments_lexer": "ipython3",
   "version": "3.6.4"
  }
 },
 "nbformat": 4,
 "nbformat_minor": 2
}
